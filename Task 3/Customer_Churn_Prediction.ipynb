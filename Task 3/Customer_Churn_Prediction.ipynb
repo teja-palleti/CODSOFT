{
  "nbformat": 4,
  "nbformat_minor": 0,
  "metadata": {
    "colab": {
      "provenance": []
    },
    "kernelspec": {
      "name": "python3",
      "display_name": "Python 3"
    },
    "language_info": {
      "name": "python"
    }
  },
  "cells": [
    {
      "cell_type": "code",
      "source": [
        "!pip install pandas\n"
      ],
      "metadata": {
        "id": "WaQlabU0Zpt7",
        "colab": {
          "base_uri": "https://localhost:8080/"
        },
        "outputId": "04e11f81-520f-4f82-cb3f-d09a10558b3c"
      },
      "execution_count": 1,
      "outputs": [
        {
          "output_type": "stream",
          "name": "stdout",
          "text": [
            "Requirement already satisfied: pandas in /usr/local/lib/python3.10/dist-packages (2.0.3)\n",
            "Requirement already satisfied: python-dateutil>=2.8.2 in /usr/local/lib/python3.10/dist-packages (from pandas) (2.8.2)\n",
            "Requirement already satisfied: pytz>=2020.1 in /usr/local/lib/python3.10/dist-packages (from pandas) (2023.4)\n",
            "Requirement already satisfied: tzdata>=2022.1 in /usr/local/lib/python3.10/dist-packages (from pandas) (2024.1)\n",
            "Requirement already satisfied: numpy>=1.21.0 in /usr/local/lib/python3.10/dist-packages (from pandas) (1.25.2)\n",
            "Requirement already satisfied: six>=1.5 in /usr/local/lib/python3.10/dist-packages (from python-dateutil>=2.8.2->pandas) (1.16.0)\n"
          ]
        }
      ]
    },
    {
      "cell_type": "code",
      "execution_count": 6,
      "metadata": {
        "colab": {
          "base_uri": "https://localhost:8080/"
        },
        "id": "c0MVQGR_Y1fX",
        "outputId": "e3de55a9-7058-4c65-9c21-3f1f56e7714f"
      },
      "outputs": [
        {
          "output_type": "stream",
          "name": "stdout",
          "text": [
            "\n",
            "Random Forest:\n",
            "Accuracy: 0.8535\n",
            "Precision: 0.8012048192771084\n",
            "Recall: 0.3384223918575064\n",
            "F1 Score: 0.47584973166368516\n",
            "\n",
            "Logistic Regression:\n",
            "Accuracy: 0.809\n",
            "Precision: 0.5364238410596026\n",
            "Recall: 0.20610687022900764\n",
            "F1 Score: 0.2977941176470588\n",
            "\n",
            "Gradient Boosting:\n",
            "Accuracy: 0.86\n",
            "Precision: 0.728744939271255\n",
            "Recall: 0.4580152671755725\n",
            "F1 Score: 0.5625\n"
          ]
        }
      ],
      "source": [
        "import pandas as pd\n",
        "import numpy as np\n",
        "from sklearn.impute import SimpleImputer\n",
        "from sklearn.preprocessing import OneHotEncoder, StandardScaler\n",
        "from sklearn.model_selection import train_test_split\n",
        "from sklearn.ensemble import RandomForestClassifier, GradientBoostingClassifier\n",
        "from sklearn.metrics import accuracy_score, precision_score, recall_score, f1_score\n",
        "data = pd.read_csv(\"/content/Churn_Modelling.csv\")\n",
        "features = data.drop(\"Exited\", axis=1)\n",
        "target = data[\"Exited\"]\n",
        "numerical_cols = features.select_dtypes(include=['int64', 'float64']).columns\n",
        "categorical_cols = features.select_dtypes(include=['object']).columns\n",
        "numerical_transformer = Pipeline(steps=[\n",
        "    ('imputer', SimpleImputer(strategy='median')),\n",
        "    ('scaler', StandardScaler())\n",
        "])\n",
        "from sklearn.model_selection import cross_val_score\n",
        "from sklearn.pipeline import Pipeline\n",
        "categorical_transformer = Pipeline(steps=[\n",
        "    ('imputer', SimpleImputer(strategy='most_frequent')),\n",
        "    ('onehot', OneHotEncoder(handle_unknown='ignore'))\n",
        "])\n",
        "from sklearn.compose import ColumnTransformer\n",
        "preprocessor = ColumnTransformer(\n",
        "    transformers=[\n",
        "        ('num', numerical_transformer, numerical_cols),\n",
        "        ('cat', categorical_transformer, categorical_cols)\n",
        "    ])\n",
        "X_train, X_test, y_train, y_test = train_test_split(features, target, test_size=0.2, random_state=42)\n",
        "def evaluate_model(model, X_train, y_train, X_test, y_test):\n",
        "    model_pipeline = Pipeline(steps=[('preprocessor', preprocessor),\n",
        "                                     ('model', model)])\n",
        "    model_pipeline.fit(X_train, y_train)\n",
        "    y_pred = model_pipeline.predict(X_test)\n",
        "    accuracy = accuracy_score(y_test, y_pred)\n",
        "    precision = precision_score(y_test, y_pred)\n",
        "    recall = recall_score(y_test, y_pred)\n",
        "    f1 = f1_score(y_test, y_pred)\n",
        "    return accuracy, precision, recall, f1\n",
        "rf = RandomForestClassifier(n_estimators=100, random_state=42)\n",
        "rf_accuracy, rf_precision, rf_recall, rf_f1 = evaluate_model(rf, X_train, y_train, X_test, y_test)\n",
        "print(\"\\nRandom Forest:\")\n",
        "print(\"Accuracy:\", rf_accuracy)\n",
        "print(\"Precision:\", rf_precision)\n",
        "print(\"Recall:\", rf_recall)\n",
        "print(\"F1 Score:\", rf_f1)\n",
        "from sklearn.linear_model import LogisticRegression\n",
        "logreg = LogisticRegression(max_iter=1000, random_state=42)\n",
        "logreg_accuracy, logreg_precision, logreg_recall, logreg_f1 = evaluate_model(logreg, X_train, y_train, X_test, y_test)\n",
        "print(\"\\nLogistic Regression:\")\n",
        "print(\"Accuracy:\", logreg_accuracy)\n",
        "print(\"Precision:\", logreg_precision)\n",
        "print(\"Recall:\", logreg_recall)\n",
        "print(\"F1 Score:\", logreg_f1)\n",
        "gbc = GradientBoostingClassifier(n_estimators=100, random_state=42)\n",
        "gbc_accuracy, gbc_precision, gbc_recall, gbc_f1 = evaluate_model(gbc, X_train, y_train, X_test, y_test)\n",
        "print(\"\\nGradient Boosting:\")\n",
        "print(\"Accuracy:\", gbc_accuracy)\n",
        "print(\"Precision:\", gbc_precision)\n",
        "print(\"Recall:\", gbc_recall)\n",
        "print(\"F1 Score:\", gbc_f1)\n",
        "\n",
        "\n",
        "\n"
      ]
    }
  ]
}